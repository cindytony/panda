{
 "cells": [
  {
   "cell_type": "markdown",
   "metadata": {},
   "source": [
    "<h1>Problem 1:</h1>\n",
    "Write a function that reads timeseries pricing data from a file into a pandas dataframe and then groups the data as follows:\n",
    "<li>The arguments to the function are the filename and a threshold number\n",
    "<li>The function reads the data in the file and creates a new column \"pct_change\" with the one day percent change\n",
    "<li>Then groups the data into four categories:\n",
    "<ul>\n",
    "<li>\"High+\" if the percent change is greater than the threshold \n",
    "<li>\"Low+\" if the percent change is zero or positive and less than or equal to the threshold% \n",
    "<li>\"Low-\" if the percent change is negative but greater than or equal to -1 * the threshold\n",
    "<li>\"High-\" if the percent change is less than -1 * the threshold\n",
    "</ul>\n",
    "<li>The function should return a dataframe that contains three columns (count, mean, stdev) and four index values (High+, High-, Low+, Low-)\n",
    "    <p><b>Note: </b>we have to deal with nan percent changes. For the purposes of this assignment, you can either classify it as a High- (in which case you'll get the results below) or classify it as \"unknown\" (your results for the High- row below will be slightly different).<p>\n",
    "For the sample data your function should return a dataframe with the following values for a threshold of 1.0:\n",
    "\n",
    "<pre>\n",
    "\n",
    "\n",
    "        count\tmean\tstdev\n",
    "High+\t698\t32.270473\t24.973644\n",
    "High-\t520\t29.824000\t22.791628\n",
    "Low+\t769\t29.234083\t19.201473\n",
    "Low-\t719\t29.193588\t18.501548\n",
    "</pre>\n",
    "\n",
    "    "
   ]
  },
  {
   "cell_type": "markdown",
   "metadata": {},
   "source": [
    "<h3>read_csv</h3>\n",
    "The pandas <a href=\"https://pandas.pydata.org/pandas-docs/stable/reference/api/pandas.read_csv.html\">read_csv</a> function reads data from a delimited file into a pandas dataframe.\n",
    "\n"
   ]
  },
  {
   "cell_type": "markdown",
   "metadata": {},
   "source": [
    "<h2>Sample data</h2>\n",
    "Use the attached AAPL.csv file"
   ]
  },
  {
   "cell_type": "code",
   "execution_count": null,
   "metadata": {},
   "outputs": [],
   "source": [
    "def change_groups(datafile,threshold):\n"
   ]
  },
  {
   "cell_type": "code",
   "execution_count": null,
   "metadata": {},
   "outputs": [],
   "source": [
    "#Test your code\n",
    "change_groups(\"AAPL.csv\",1.0)"
   ]
  },
  {
   "cell_type": "markdown",
   "metadata": {},
   "source": [
    "<h1>Problem 2</h1>\n",
    "A manufacturer has data on orders from customers and product prices in two dataframes (see below). They want to use this data to answer the following questions:\n",
    "<ol>\n",
    "    <li>Which customer is responsible for the most revenue</li>\n",
    "    <li>Which customer is responsible for the highest profit</li>\n",
    "    <li>Which product is responsible for the highest (dollar) profit</li>\n",
    "    <li>Which customer and product combination is responsible for the most orders</li>\n",
    "</ol>\n",
    "<p>\n",
    "Obviously, your code should work for any actual data values and pandas dataframes of any length!\n",
    "<p>For the data below: your answers should be:\n",
    "    \n",
    "<pre>\n",
    "Customer with most profit: 005\n",
    "Customer with most revenue: 007\n",
    "Product with most profit: 011\n",
    "Customer 001 with product 010 with 4 orders is the most ordered customer product pair\n",
    "</pre>"
   ]
  },
  {
   "cell_type": "markdown",
   "metadata": {},
   "source": [
    "<h2>Useful functions:</h2>\n",
    "<li><a href=\"https://pandas.pydata.org/pandas-docs/stable/reference/api/pandas.DataFrame.sort_values.html\">pd.sort_values</a> </li>\n",
    "<li><a href=\"https://pandas.pydata.org/pandas-docs/stable/reference/api/pandas.DataFrame.join.html\">pandas dataframe join</a> the last example on the linked page is probably what you need here!</li>\n",
    "<li><a href=\"https://pandas.pydata.org/pandas-docs/stable/reference/api/pandas.DataFrame.groupby.html\">pd.groupby</a></li>"
   ]
  },
  {
   "cell_type": "code",
   "execution_count": null,
   "metadata": {},
   "outputs": [],
   "source": [
    "import pandas as pd\n",
    "import numpy as np\n",
    "order_data = pd.DataFrame([[\"001\",\"010\",24],\n",
    "                           [\"007\",\"012\",35],\n",
    "                           [\"001\",\"011\",15],\n",
    "                           [\"005\",\"010\",30],\n",
    "                           [\"007\",\"011\",17],\n",
    "                           [\"005\",\"011\",81],\n",
    "                           [\"001\",\"010\",32],\n",
    "                           [\"007\",\"012\",89],\n",
    "                           [\"001\",\"010\",16],\n",
    "                           [\"001\",\"010\",33]],columns=[\"customer\",\"product\",\"amount\"])\n",
    "products = pd.DataFrame([['010',22.3,17.2],\n",
    "                        ['011',11.7,5.5],\n",
    "                        ['012',62.5,61.4]],columns=['product','price','cost'])                     "
   ]
  },
  {
   "cell_type": "code",
   "execution_count": null,
   "metadata": {},
   "outputs": [],
   "source": []
  },
  {
   "cell_type": "code",
   "execution_count": null,
   "metadata": {},
   "outputs": [],
   "source": []
  }
 ],
 "metadata": {
  "kernelspec": {
   "display_name": "Python 3",
   "language": "python",
   "name": "python3"
  },
  "language_info": {
   "codemirror_mode": {
    "name": "ipython",
    "version": 3
   },
   "file_extension": ".py",
   "mimetype": "text/x-python",
   "name": "python",
   "nbconvert_exporter": "python",
   "pygments_lexer": "ipython3",
   "version": "3.8.3"
  }
 },
 "nbformat": 4,
 "nbformat_minor": 2
}
