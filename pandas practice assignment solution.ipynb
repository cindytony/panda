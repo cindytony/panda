{
 "cells": [
  {
   "cell_type": "markdown",
   "metadata": {},
   "source": [
    "<h1>Problem 1:</h1>\n",
    "Write a function that reads timeseries pricing data from a file into a pandas dataframe and then groups the data as follows:\n",
    "<li>The arguments to the function are the filename and a threshold number\n",
    "<li>The function reads the data in the file and creates a new column \"pct_change\" with the one day percent change\n",
    "<li>Then groups the data into four categories:\n",
    "<ul>\n",
    "<li>\"High+\" if the percent change is greater than the threshold \n",
    "<li>\"Low+\" if the percent change is zero or positive and less than or equal to the threshold% \n",
    "<li>\"Low-\" if the percent change is negative but greater than or equal to -1 * the threshold\n",
    "<li>\"High-\" if the percent change is less than -1 * the threshold\n",
    "</ul>\n",
    "<li>The function should return a dataframe that contains three columns (count, mean, stdev) and four index values (High+, High-, Low+, Low-)\n",
    "    <p><b>Note: </b>we have to deal with nan percent changes. For the purposes of this assignment, you can either classify it as a High- (in which case you'll get the results below) or classify it as \"unknown\" (your results for the High- row below will be slightly different).<p>\n",
    "For the sample data your function should return a dataframe with the following values for a threshold of 1.0:\n",
    "\n",
    "<pre>\n",
    "\n",
    "\n",
    "        count\tmean\tstdev\n",
    "High+\t698\t32.270473\t24.973644\n",
    "High-\t520\t29.824000\t22.791628\n",
    "Low+\t769\t29.234083\t19.201473\n",
    "Low-\t719\t29.193588\t18.501548\n",
    "</pre>\n",
    "\n",
    "    "
   ]
  },
  {
   "cell_type": "markdown",
   "metadata": {},
   "source": [
    "<h3>read_csv</h3>\n",
    "The pandas <a href=\"https://pandas.pydata.org/pandas-docs/stable/reference/api/pandas.read_csv.html\">read_csv</a> function reads data from a delimited file into a pandas dataframe.\n",
    "\n"
   ]
  },
  {
   "cell_type": "markdown",
   "metadata": {},
   "source": [
    "<h2>Sample data</h2>\n",
    "Use the attached AAPL.csv file"
   ]
  },
  {
   "cell_type": "code",
   "execution_count": 10,
   "metadata": {},
   "outputs": [],
   "source": [
    "def change_groups(datafile,threshold):\n",
    "    import pandas as pd\n",
    "    import numpy as np\n",
    "\n",
    "    def change_group(df,ind,col,threshold):\n",
    "        val = df[col][ind]\n",
    "        if val > threshold:\n",
    "            return \"High+\"\n",
    "        elif val >= 0:\n",
    "            return \"Low+\"\n",
    "        elif val >-1.0*threshold:\n",
    "            return \"Low-\"\n",
    "        else:\n",
    "            return \"High-\"\n",
    "\n",
    "    datafile = \"AAPL.csv\"\n",
    "    df = pd.read_csv(datafile,header=0,na_values='null')\n",
    "    df['pct_changes']=(df['Close'].pct_change())*100\n",
    "\n",
    "    groups = df.groupby(lambda x: change_group(df,x,'pct_changes',threshold))\n",
    "    count = groups.count()['Date']\n",
    "    mean = groups.mean()['pct_changes']\n",
    "    stdev = groups.std()['pct_changes']\n",
    "    return pd.DataFrame({'count':count,'mean':mean,'stdev':stdev})\n"
   ]
  },
  {
   "cell_type": "code",
   "execution_count": 11,
   "metadata": {},
   "outputs": [
    {
     "data": {
      "text/html": [
       "<div>\n",
       "<style scoped>\n",
       "    .dataframe tbody tr th:only-of-type {\n",
       "        vertical-align: middle;\n",
       "    }\n",
       "\n",
       "    .dataframe tbody tr th {\n",
       "        vertical-align: top;\n",
       "    }\n",
       "\n",
       "    .dataframe thead th {\n",
       "        text-align: right;\n",
       "    }\n",
       "</style>\n",
       "<table border=\"1\" class=\"dataframe\">\n",
       "  <thead>\n",
       "    <tr style=\"text-align: right;\">\n",
       "      <th></th>\n",
       "      <th>count</th>\n",
       "      <th>mean</th>\n",
       "      <th>stdev</th>\n",
       "    </tr>\n",
       "  </thead>\n",
       "  <tbody>\n",
       "    <tr>\n",
       "      <th>High+</th>\n",
       "      <td>698</td>\n",
       "      <td>2.128898</td>\n",
       "      <td>1.323162</td>\n",
       "    </tr>\n",
       "    <tr>\n",
       "      <th>High-</th>\n",
       "      <td>520</td>\n",
       "      <td>-2.264811</td>\n",
       "      <td>1.439012</td>\n",
       "    </tr>\n",
       "    <tr>\n",
       "      <th>Low+</th>\n",
       "      <td>769</td>\n",
       "      <td>0.451744</td>\n",
       "      <td>0.293278</td>\n",
       "    </tr>\n",
       "    <tr>\n",
       "      <th>Low-</th>\n",
       "      <td>719</td>\n",
       "      <td>-0.456006</td>\n",
       "      <td>0.266048</td>\n",
       "    </tr>\n",
       "  </tbody>\n",
       "</table>\n",
       "</div>"
      ],
      "text/plain": [
       "       count      mean     stdev\n",
       "High+    698  2.128898  1.323162\n",
       "High-    520 -2.264811  1.439012\n",
       "Low+     769  0.451744  0.293278\n",
       "Low-     719 -0.456006  0.266048"
      ]
     },
     "execution_count": 11,
     "metadata": {},
     "output_type": "execute_result"
    }
   ],
   "source": [
    "change_groups(\"AAPL.csv\",1.0)"
   ]
  },
  {
   "cell_type": "code",
   "execution_count": 4,
   "metadata": {},
   "outputs": [
    {
     "data": {
      "text/html": [
       "<div>\n",
       "<style scoped>\n",
       "    .dataframe tbody tr th:only-of-type {\n",
       "        vertical-align: middle;\n",
       "    }\n",
       "\n",
       "    .dataframe tbody tr th {\n",
       "        vertical-align: top;\n",
       "    }\n",
       "\n",
       "    .dataframe thead th {\n",
       "        text-align: right;\n",
       "    }\n",
       "</style>\n",
       "<table border=\"1\" class=\"dataframe\">\n",
       "  <thead>\n",
       "    <tr style=\"text-align: right;\">\n",
       "      <th></th>\n",
       "      <th>count</th>\n",
       "      <th>mean</th>\n",
       "      <th>stdev</th>\n",
       "    </tr>\n",
       "  </thead>\n",
       "  <tbody>\n",
       "    <tr>\n",
       "      <th>High+</th>\n",
       "      <td>698</td>\n",
       "      <td>2.128898</td>\n",
       "      <td>1.323162</td>\n",
       "    </tr>\n",
       "    <tr>\n",
       "      <th>High-</th>\n",
       "      <td>520</td>\n",
       "      <td>-2.264811</td>\n",
       "      <td>1.439012</td>\n",
       "    </tr>\n",
       "    <tr>\n",
       "      <th>Low+</th>\n",
       "      <td>769</td>\n",
       "      <td>0.451744</td>\n",
       "      <td>0.293278</td>\n",
       "    </tr>\n",
       "    <tr>\n",
       "      <th>Low-</th>\n",
       "      <td>719</td>\n",
       "      <td>-0.456006</td>\n",
       "      <td>0.266048</td>\n",
       "    </tr>\n",
       "  </tbody>\n",
       "</table>\n",
       "</div>"
      ],
      "text/plain": [
       "       count      mean     stdev\n",
       "High+    698  2.128898  1.323162\n",
       "High-    520 -2.264811  1.439012\n",
       "Low+     769  0.451744  0.293278\n",
       "Low-     719 -0.456006  0.266048"
      ]
     },
     "execution_count": 4,
     "metadata": {},
     "output_type": "execute_result"
    }
   ],
   "source": [
    "#Test your code\n",
    "change_groups(\"AAPL.csv\",1.0)"
   ]
  },
  {
   "cell_type": "code",
   "execution_count": 6,
   "metadata": {},
   "outputs": [],
   "source": [
    "import pandas as pd\n",
    "import numpy as np"
   ]
  },
  {
   "cell_type": "markdown",
   "metadata": {},
   "source": [
    "<h1>Problem 2</h1>\n",
    "A manufacturer has data on orders from customers and product prices in two dataframes (see below). They want to use this data to answer the following questions:\n",
    "<ol>\n",
    "    <li>Which customer is responsible for the most revenue</li>\n",
    "    <li>Which customer is responsible for the highest profit</li>\n",
    "    <li>Which product is responsible for the highest (dollar) profit</li>\n",
    "    <li>Which customer and product combination is responsible for the most orders</li>\n",
    "</ol>\n",
    "<p>\n",
    "Obviously, your code should work for any actual data values and pandas dataframes of any length!\n",
    "<p>For the data below: your answers should be:\n",
    "    \n",
    "<pre>\n",
    "Customer with most profit: 005\n",
    "Customer with most revenue: 007\n",
    "Product with most profit: 011\n",
    "Customer 001 with product 010 with 4 orders is the most ordered customer product pair\n",
    "</pre>"
   ]
  },
  {
   "cell_type": "markdown",
   "metadata": {},
   "source": [
    "<h2>Useful functions:</h2>\n",
    "<li><a href=\"https://pandas.pydata.org/pandas-docs/stable/reference/api/pandas.DataFrame.sort_values.html\">pd.sort_values</a> </li>\n",
    "<li><a href=\"https://pandas.pydata.org/pandas-docs/stable/reference/api/pandas.DataFrame.join.html\">pandas dataframe join</a> the last example on the linked page is probably what you need here!</li>\n",
    "<li><a href=\"https://pandas.pydata.org/pandas-docs/stable/reference/api/pandas.DataFrame.groupby.html\">pd.groupby</a></li>"
   ]
  },
  {
   "cell_type": "code",
   "execution_count": 1,
   "metadata": {},
   "outputs": [],
   "source": [
    "import pandas as pd\n",
    "import numpy as np\n",
    "order_data = pd.DataFrame([[\"001\",\"010\",24],\n",
    "                           [\"007\",\"012\",35],\n",
    "                           [\"001\",\"011\",15],\n",
    "                           [\"005\",\"010\",30],\n",
    "                           [\"007\",\"011\",17],\n",
    "                           [\"005\",\"011\",81],\n",
    "                           [\"001\",\"010\",32],\n",
    "                           [\"007\",\"012\",89],\n",
    "                           [\"001\",\"010\",16],\n",
    "                           [\"001\",\"010\",33]],columns=[\"customer\",\"product\",\"amount\"])\n",
    "products = pd.DataFrame([['010',22.3,17.2],\n",
    "                        ['011',11.7,5.5],\n",
    "                        ['012',62.5,61.4]],columns=['product','price','cost'])                     "
   ]
  },
  {
   "cell_type": "code",
   "execution_count": 2,
   "metadata": {},
   "outputs": [
    {
     "name": "stdout",
     "output_type": "stream",
     "text": [
      "Customer with most profit: 005\n",
      "Customer with most revenue: 007\n",
      "Product with most profit: 011\n",
      "Customer 001 with product 010 with 4 orders is the most ordered customer product pair\n"
     ]
    }
   ],
   "source": [
    "joined_df = order_data.join(products.set_index('product'),on=\"product\")\n",
    "joined_df['profit'] = joined_df['amount'] * (joined_df['price'] - joined_df['cost']) \n",
    "joined_df['revenue'] = joined_df['amount'] * joined_df['price']\n",
    "profits = joined_df.groupby('customer').sum()['profit']\n",
    "revenues = joined_df.groupby('customer').sum()['revenue']\n",
    "max_product = joined_df.groupby('product').sum()['profit']\n",
    "print(\"Customer with most profit:\",profits.sort_values(ascending=False).index[0])\n",
    "print(\"Customer with most revenue:\",revenues.sort_values(ascending=False).index[0])\n",
    "print(\"Product with most profit:\",max_product.sort_values(ascending=False).index[0])\n",
    "most = order_data.groupby(['customer','product']).count().sort_values(by=\"amount\")\n",
    "print(\"Customer %s with product %s with %d orders is the most ordered customer product pair\"%\n",
    "      (most.index[-1][0],\n",
    "      most.index[-1][1],\n",
    "      most.amount[-1])\n",
    "     )"
   ]
  },
  {
   "cell_type": "code",
   "execution_count": 4,
   "metadata": {},
   "outputs": [
    {
     "data": {
      "text/html": [
       "<div>\n",
       "<style scoped>\n",
       "    .dataframe tbody tr th:only-of-type {\n",
       "        vertical-align: middle;\n",
       "    }\n",
       "\n",
       "    .dataframe tbody tr th {\n",
       "        vertical-align: top;\n",
       "    }\n",
       "\n",
       "    .dataframe thead th {\n",
       "        text-align: right;\n",
       "    }\n",
       "</style>\n",
       "<table border=\"1\" class=\"dataframe\">\n",
       "  <thead>\n",
       "    <tr style=\"text-align: right;\">\n",
       "      <th></th>\n",
       "      <th></th>\n",
       "      <th>amount</th>\n",
       "    </tr>\n",
       "    <tr>\n",
       "      <th>customer</th>\n",
       "      <th>product</th>\n",
       "      <th></th>\n",
       "    </tr>\n",
       "  </thead>\n",
       "  <tbody>\n",
       "    <tr>\n",
       "      <th>001</th>\n",
       "      <th>011</th>\n",
       "      <td>1</td>\n",
       "    </tr>\n",
       "    <tr>\n",
       "      <th rowspan=\"2\" valign=\"top\">005</th>\n",
       "      <th>010</th>\n",
       "      <td>1</td>\n",
       "    </tr>\n",
       "    <tr>\n",
       "      <th>011</th>\n",
       "      <td>1</td>\n",
       "    </tr>\n",
       "    <tr>\n",
       "      <th rowspan=\"2\" valign=\"top\">007</th>\n",
       "      <th>011</th>\n",
       "      <td>1</td>\n",
       "    </tr>\n",
       "    <tr>\n",
       "      <th>012</th>\n",
       "      <td>2</td>\n",
       "    </tr>\n",
       "    <tr>\n",
       "      <th>001</th>\n",
       "      <th>010</th>\n",
       "      <td>4</td>\n",
       "    </tr>\n",
       "  </tbody>\n",
       "</table>\n",
       "</div>"
      ],
      "text/plain": [
       "                  amount\n",
       "customer product        \n",
       "001      011           1\n",
       "005      010           1\n",
       "         011           1\n",
       "007      011           1\n",
       "         012           2\n",
       "001      010           4"
      ]
     },
     "execution_count": 4,
     "metadata": {},
     "output_type": "execute_result"
    }
   ],
   "source": [
    "most"
   ]
  },
  {
   "cell_type": "code",
   "execution_count": null,
   "metadata": {},
   "outputs": [],
   "source": []
  }
 ],
 "metadata": {
  "kernelspec": {
   "display_name": "Python 3",
   "language": "python",
   "name": "python3"
  },
  "language_info": {
   "codemirror_mode": {
    "name": "ipython",
    "version": 3
   },
   "file_extension": ".py",
   "mimetype": "text/x-python",
   "name": "python",
   "nbconvert_exporter": "python",
   "pygments_lexer": "ipython3",
   "version": "3.8.3"
  }
 },
 "nbformat": 4,
 "nbformat_minor": 2
}
